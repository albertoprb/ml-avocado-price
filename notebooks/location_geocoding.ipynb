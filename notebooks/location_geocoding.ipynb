{
 "cells": [
  {
   "cell_type": "code",
   "execution_count": 29,
   "metadata": {},
   "outputs": [
    {
     "name": "stdout",
     "output_type": "stream",
     "text": [
      "Geocoding for:  Plains\n",
      "Couldn't geocode:  Plains\n",
      "Geocoding for:  South East\n",
      "Couldn't geocode:  South East\n",
      "Geocoding for:  West\n",
      "Couldn't geocode:  West\n",
      "Geocoding for:  Mid South\n",
      "Couldn't geocode:  Mid South\n",
      "Geocoding for:  Hartford\n",
      "{'address_components': [{'long_name': 'Hartford', 'short_name': 'Hartford', 'types': ['locality', 'political']}, {'long_name': 'Hartford County', 'short_name': 'Hartford County', 'types': ['administrative_area_level_2', 'political']}, {'long_name': 'Connecticut', 'short_name': 'CT', 'types': ['administrative_area_level_1', 'political']}, {'long_name': 'United States', 'short_name': 'US', 'types': ['country', 'political']}], 'formatted_address': 'Hartford, CT, USA', 'geometry': {'bounds': {'northeast': {'lat': 41.807575, 'lng': -72.6425359}, 'southwest': {'lat': 41.7237999, 'lng': -72.717638}}, 'location': {'lat': 41.7658043, 'lng': -72.6733723}, 'location_type': 'APPROXIMATE', 'viewport': {'northeast': {'lat': 41.807575, 'lng': -72.6425359}, 'southwest': {'lat': 41.7237999, 'lng': -72.717638}}}, 'place_id': 'ChIJpVER8hFT5okRmVl96ahKjsw', 'types': ['locality', 'political']}\n"
     ]
    }
   ],
   "source": [
    "import pandas as pd\n",
    "from tqdm import tqdm\n",
    "import time\n",
    "import json\n",
    "import requests\n",
    "\n",
    "\n",
    "df = pd.read_csv('./data/geographies_to_process.csv') \n",
    "\n",
    "tqdm.pandas()\n",
    "\n",
    "df['type'] = ''\n",
    "df['name'] = ''\n",
    "df['lat'] = ''\n",
    "df['lon'] = ''\n",
    "df['raw'] = ''\n",
    "\n",
    "regions = ['West', 'Plains', 'Northeast', 'South Central', 'Southeast', 'Total U.S.']\n",
    "states = ['South Carolina', 'New York', 'California', 'West Tex/New Mexico']\n",
    "\n",
    "def geocode(address_or_zipcode):\n",
    "    GM_API_KEY = 'UPDATE WITH YOUR KEY HERE'\n",
    "    base_url = \"https://maps.googleapis.com/maps/api/geocode/json\"\n",
    "    endpoint = f\"{base_url}?address={address_or_zipcode}&key={GM_API_KEY}\"\n",
    "    # see how our endpoint includes our API key? Yes this is yet another reason to restrict the key\n",
    "    r = requests.get(endpoint)\n",
    "    if r.status_code not in range(200, 299):\n",
    "        return None, None\n",
    "    try:\n",
    "        '''\n",
    "        This try block incase any of our inputs are invalid. This is done instead\n",
    "        of actually writing out handlers for all kinds of responses.\n",
    "        '''\n",
    "        results = r.json()['results'][0]\n",
    "    except:\n",
    "        pass\n",
    "    return results\n",
    "\n",
    "\n",
    "for index, location in df.iterrows():\n",
    "    if location['geography'] in regions:\n",
    "        df.loc[index, 'location_type'] = 'region'\n",
    "    elif location['geography'] in states:\n",
    "        df.loc[index, 'location_type'] = 'state'\n",
    "    else:\n",
    "        df.loc[index, 'location_type'] = 'city'\n",
    "        \n",
    "\n",
    "    \n",
    "    try:\n",
    "        print(\"Geocoding for: \", location['location_name'])\n",
    "        \n",
    "        location = geocode(location['location_name'])\n",
    "        #print(json.dumps(location, indent = 4, sort_keys=True)) # pretty print\n",
    "        print(location) # line print\n",
    "        \n",
    "        df.loc[index, 'geography'] = location['formatted_address']\n",
    "        df.loc[index, 'lat'] = location['geometry']['location']['lat']\n",
    "        df.loc[index, 'lon'] = location['geometry']['location']['lng']\n",
    "        df.loc[index, 'raw'] = json.dumps(location)\n",
    "        \n",
    "    except:\n",
    "        print(\"Couldn't geocode: \", location['location_name'])\n",
    "        \n",
    "    time.sleep(1)\n",
    "\n",
    "df.to_csv('./data/geographies_processed_new.csv', index=False)\n"
   ]
  }
 ],
 "metadata": {
  "kernelspec": {
   "display_name": "experimental",
   "language": "python",
   "name": "python3"
  },
  "language_info": {
   "codemirror_mode": {
    "name": "ipython",
    "version": 3
   },
   "file_extension": ".py",
   "mimetype": "text/x-python",
   "name": "python",
   "nbconvert_exporter": "python",
   "pygments_lexer": "ipython3",
   "version": "3.11.8"
  }
 },
 "nbformat": 4,
 "nbformat_minor": 2
}
